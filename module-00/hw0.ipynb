{
 "cells": [
  {
   "cell_type": "markdown",
   "id": "b2c7b7bb",
   "metadata": {},
   "source": [
    "## Homework: Agents \n",
    "In this homework, we will learn more about function calling, and we will also explore MCP - model-context protocol.\n",
    "\n",
    "### Preparation\n",
    "First, we'll define a function that we will use when building our agent.\n",
    "It will generate fake weather data:"
   ]
  },
  {
   "cell_type": "code",
   "execution_count": null,
   "id": "1099976b",
   "metadata": {},
   "outputs": [],
   "source": [
    "import random\n",
    "known_weather_data = {\n",
    "    'berlin': 20.0\n",
    "}\n",
    "def get_weather(city: str) -> float:\n",
    "    city = city.strip().lower()\n",
    "    if city in known_weather_data:\n",
    "        return known_weather_data[city]\n",
    "    return round(random.uniform(-5, 35), 1)"
   ]
  },
  {
   "cell_type": "markdown",
   "id": "0dcddd62",
   "metadata": {},
   "source": [
    "### Q1. Define function description\n",
    "We want to use it as a tool for our agent, so we need to describe it\n",
    "How should the description for this function look like? Fill in missing parts\n",
    "```python\n",
    "get_weather_tool = {\n",
    "    \"type\": \"function\",\n",
    "    \"name\": \"<TODO1>\",\n",
    "    \"description\": \"<TODO2>\",\n",
    "    \"parameters\": {\n",
    "        \"type\": \"object\",\n",
    "        \"properties\": {\n",
    "            \"<TODO3>\": {\n",
    "                \"type\": \"string\",\n",
    "                \"description\": \"<TODO4>\"\n",
    "            }\n",
    "        },\n",
    "        \"required\": [TODO5],\n",
    "        \"additionalProperties\": False\n",
    "    }\n",
    "}\n",
    "```\n",
    "What did you put in TODO3?\n",
    "\n",
    "#### Testing it (Optional)\n",
    "If you have OpenAI API Key (or alternative provider), let's test it.\n",
    "A question could be \"What's the weather like in Germany?\"\n",
    "Experiment with different system prompts to have better answers from the system.\n",
    "You can use chat_assistant.py or implement everything yourself\n",
    "\n",
    "`wget https://raw.githubusercontent.com/alexeygrigorev/rag-agents-workshop/refs/heads/main/chat_assistant.py`"
   ]
  },
  {
   "cell_type": "code",
   "execution_count": null,
   "id": "48ac2d69",
   "metadata": {},
   "outputs": [],
   "source": [
    "get_weather_tool = {\n",
    "    \"type\": \"function\",\n",
    "    \"name\": \"get_weather\", # The name of the function as a string\n",
    "    \"description\": \n",
    "        \"Get the current temperature for a given city.\", # What the function does\n",
    "    \"parameters\": {\n",
    "        \"type\": \"object\",\n",
    "        \"properties\": {\n",
    "            \"city\": { # The parameter expected by the function\n",
    "                \"type\": \"string\",\n",
    "                \"description\": \n",
    "                    \"The name of the city to get the weather for.\" # A parameter description\n",
    "            }\n",
    "        },\n",
    "        \"required\": [\"city\"], # The required parameter as a list\n",
    "        \"additionalProperties\": False\n",
    "    }\n",
    "}"
   ]
  },
  {
   "cell_type": "code",
   "execution_count": null,
   "id": "3755477b",
   "metadata": {},
   "outputs": [
    {
     "name": "stdout",
     "output_type": "stream",
     "text": [
      "{'type': 'function', 'name': 'get_weather', 'description': 'Get the current temperature for a given city.', 'parameters': {'type': 'object', 'properties': {'city': {'type': 'string', 'description': 'The name of the city to get the weather for.'}}, 'required': ['city'], 'additionalProperties': False}}\n"
     ]
    }
   ],
   "source": [
    "print(get_weather_tool)"
   ]
  },
  {
   "cell_type": "code",
   "execution_count": null,
   "id": "cb6ac681",
   "metadata": {},
   "outputs": [],
   "source": [
    "# 1. Register the Tool for this session:\n",
    "import chat_assistant\n",
    "\n",
    "tools = chat_assistant.Tools() \n",
    "# chat_assistant will automatically pass it to OpenAI API\n",
    "tools.add_tool(get_weather, get_weather_tool)"
   ]
  },
  {
   "cell_type": "code",
   "execution_count": null,
   "id": "e2f432d5",
   "metadata": {},
   "outputs": [],
   "source": [
    "# 2. Set Up the Chat: \n",
    "\n",
    "# Create a developer/system prompt and chat messages\n",
    "developer_prompt = \"\"\"\n",
    "You are a helpful weather assistant. Use the get_weather tool to answer weather questions.\n",
    "\"\"\".strip()\n",
    "\n",
    "chat_messages = [\n",
    "    {\"role\": \"developer\", \"content\": developer_prompt},\n",
    "    {\"role\": \"user\", \"content\": \"What's the weather like in Denmark?\"}\n",
    "]"
   ]
  },
  {
   "cell_type": "code",
   "execution_count": null,
   "id": "5ee84e8b",
   "metadata": {},
   "outputs": [],
   "source": [
    "from openai import OpenAI\n",
    "client = OpenAI()"
   ]
  },
  {
   "cell_type": "code",
   "execution_count": null,
   "id": "15409548",
   "metadata": {},
   "outputs": [
    {
     "data": {
      "text/html": [
       "\n",
       "            <details>\n",
       "            <summary>Function call: <tt>get_weather({\"city\":\"Copenhagen, Denmark\"})</tt></summary>\n",
       "            <div>\n",
       "                <b>Call</b>\n",
       "                <pre>ResponseFunctionToolCall(arguments='{\"city\":\"Copenhagen, Denmark\"}', call_id='call_wXgVpGxbqLn3UbM7dp8joNEW', name='get_weather', type='function_call', id='fc_68946a647f00819180bc233c6b4c8f050b609dcddf241a19', status='completed')</pre>\n",
       "            </div>\n",
       "            <div>\n",
       "                <b>Output</b>\n",
       "                <pre>7.8</pre>\n",
       "            </div>\n",
       "            \n",
       "            </details>\n",
       "        "
      ],
      "text/plain": [
       "<IPython.core.display.HTML object>"
      ]
     },
     "metadata": {},
     "output_type": "display_data"
    },
    {
     "data": {
      "text/html": [
       "\n",
       "            <div>\n",
       "                <div><b>Assistant:</b></div>\n",
       "                <div><p>The current temperature in Copenhagen, Denmark is 7.8°C. If you need more specific information about the weather, let me know!</p></div>\n",
       "            </div>\n",
       "        "
      ],
      "text/plain": [
       "<IPython.core.display.HTML object>"
      ]
     },
     "metadata": {},
     "output_type": "display_data"
    },
    {
     "name": "stdout",
     "output_type": "stream",
     "text": [
      "Chat ended.\n"
     ]
    }
   ],
   "source": [
    "# 3a. Use chat_assistant.py\n",
    "chat = chat_assistant.ChatAssistant(\n",
    "    tools=tools,\n",
    "    developer_prompt=developer_prompt,\n",
    "    chat_interface=chat_assistant.ChatInterface(),\n",
    "    client=client\n",
    ")\n",
    "chat.run()"
   ]
  },
  {
   "cell_type": "code",
   "execution_count": null,
   "id": "a8108adf",
   "metadata": {},
   "outputs": [],
   "source": [
    "# 3b. Call the OpenAI API (skip if using chat_assistant.py) \n",
    "\n",
    "response = client.responses.create( # Use the new responses API\n",
    "    model='gpt-4o-mini',\n",
    "    input=chat_messages,\n",
    "    tools=tools.get_tools() # Use OpenAI API directly (without chat_assistant)\n",
    ")"
   ]
  },
  {
   "cell_type": "code",
   "execution_count": null,
   "id": "2d8c4735",
   "metadata": {},
   "outputs": [
    {
     "name": "stdout",
     "output_type": "stream",
     "text": [
      "Function call result: 32.4\n"
     ]
    }
   ],
   "source": [
    "# 4. Handle Function Calls (skip if using chat_assistant.py) \n",
    "for entry in response.output:\n",
    "    # If the model decides to call your function, process the function call\n",
    "    if entry.type == 'function_call':\n",
    "        # Call your function with the arguments\n",
    "        import json\n",
    "        arguments = json.loads(entry.arguments)\n",
    "        result = get_weather(**arguments)\n",
    "        print(\"Function call result:\", result)\n",
    "        \n",
    "        # Append the function call output as a string\n",
    "        chat_messages.append({\n",
    "            \"type\": \"function_call_output\",\n",
    "            \"call_id\": entry.call_id,\n",
    "            \"output\": str(result), \n",
    "        })\n",
    "    elif entry.type == 'message':\n",
    "        print(entry.content[0].text)"
   ]
  },
  {
   "cell_type": "markdown",
   "id": "0a089335",
   "metadata": {},
   "source": [
    "5. Experiment with Prompts\n",
    "Try changing developer_prompt to see how the model's behavior changes, e.g.:\n",
    "\n",
    "* \"You are a weather expert. Always use the get_weather tool for city weather questions.\"\n",
    "* \"You can answer general questions, but use the tool for specific cities.\"\n"
   ]
  },
  {
   "cell_type": "markdown",
   "id": "34e0f180",
   "metadata": {},
   "source": [
    "### Answer:\n",
    "* Q: What did you put in TODO3?\n",
    "* A: city"
   ]
  },
  {
   "cell_type": "markdown",
   "id": "3e5aae93",
   "metadata": {},
   "source": [
    "### Q2. Adding another tool\n",
    "Let's add another tool - a function that can add weather data to our database:"
   ]
  },
  {
   "cell_type": "code",
   "execution_count": null,
   "id": "b3d46dd6",
   "metadata": {},
   "outputs": [],
   "source": [
    "def set_weather(city: str, temp: float) -> None:\n",
    "    city = city.strip().lower()\n",
    "    known_weather_data[city] = temp\n",
    "    return 'OK'"
   ]
  },
  {
   "cell_type": "markdown",
   "id": "38f7f82c",
   "metadata": {},
   "source": [
    "Now let's write a description for it.\n",
    "What did you write?\n",
    "Optionally, you can test it after adding this function."
   ]
  },
  {
   "cell_type": "code",
   "execution_count": null,
   "id": "18522448",
   "metadata": {},
   "outputs": [],
   "source": [
    "set_weather_tool = {\n",
    "    \"type\": \"function\",\n",
    "    \"name\": \"set_weather\",\n",
    "    \"description\": \n",
    "        \"Set or update the temperature for a given city in the weather database.\",\n",
    "    \"parameters\": {\n",
    "        \"type\": \"object\",\n",
    "        \"properties\": {\n",
    "            \"city\": {\n",
    "                \"type\": \"string\",\n",
    "                \"description\": \n",
    "                    \"The name of the city to set the temperature for.\"\n",
    "            },\n",
    "            \"temp\": {\n",
    "                \"type\": \"number\",\n",
    "                \"description\": \n",
    "                    \"The temperature value to set for the city.\"\n",
    "            }\n",
    "        },\n",
    "        \"required\": [\"city\", \"temp\"],\n",
    "        \"additionalProperties\": False\n",
    "    }\n",
    "}"
   ]
  },
  {
   "cell_type": "markdown",
   "id": "cb79d284",
   "metadata": {},
   "source": [
    "### Answer:\n",
    "* Q: What did you write?\n",
    "* A: \"Set or update the temperature for a given city in the weather database.\""
   ]
  },
  {
   "cell_type": "markdown",
   "id": "7fbd8168",
   "metadata": {},
   "source": [
    "#### MCP\n",
    "MCP stands for Model-Context Protocol. It allows LLMs communicate with different tools (like Qdrant). It's function calling, but one step further:\n",
    "* A tool can export a list of functions it has\n",
    "* When we include the tool to our Agent, we just need to include the link to the MCP server"
   ]
  },
  {
   "cell_type": "markdown",
   "id": "00ab4a8e",
   "metadata": {},
   "source": [
    "### Q3. Install FastMCP\n",
    "Let's install a library for MCP - FastMCP:\n",
    "`pip install fastmcp`\n",
    "What's the version of FastMCP you installed?"
   ]
  },
  {
   "cell_type": "code",
   "execution_count": null,
   "id": "aceb1851",
   "metadata": {},
   "outputs": [
    {
     "name": "stdout",
     "output_type": "stream",
     "text": [
      "Collecting fastmcp\n",
      "  Downloading fastmcp-2.11.2-py3-none-any.whl.metadata (17 kB)\n",
      "Collecting authlib>=1.5.2 (from fastmcp)\n",
      "  Downloading authlib-1.6.1-py2.py3-none-any.whl.metadata (1.6 kB)\n",
      "Collecting cyclopts>=3.0.0 (from fastmcp)\n",
      "  Downloading cyclopts-3.22.5-py3-none-any.whl.metadata (11 kB)\n",
      "Requirement already satisfied: exceptiongroup>=1.2.2 in /home/codespace/miniconda3/lib/python3.10/site-packages (from fastmcp) (1.3.0)\n",
      "Requirement already satisfied: httpx>=0.28.1 in /home/codespace/miniconda3/lib/python3.10/site-packages (from fastmcp) (0.28.1)\n",
      "Requirement already satisfied: mcp>=1.10.0 in /home/codespace/miniconda3/lib/python3.10/site-packages (from fastmcp) (1.12.3)\n",
      "Collecting openapi-core>=0.19.5 (from fastmcp)\n",
      "  Downloading openapi_core-0.19.5-py3-none-any.whl.metadata (6.6 kB)\n",
      "Collecting openapi-pydantic>=0.5.1 (from fastmcp)\n",
      "  Downloading openapi_pydantic-0.5.1-py3-none-any.whl.metadata (10 kB)\n",
      "Requirement already satisfied: pydantic>=2.11.7 in /home/codespace/miniconda3/lib/python3.10/site-packages (from pydantic[email]>=2.11.7->fastmcp) (2.11.7)\n",
      "Collecting pyperclip>=1.9.0 (from fastmcp)\n",
      "  Downloading pyperclip-1.9.0.tar.gz (20 kB)\n",
      "  Preparing metadata (setup.py) ... \u001b[?25ldone\n",
      "\u001b[?25hRequirement already satisfied: python-dotenv>=1.1.0 in /home/codespace/miniconda3/lib/python3.10/site-packages (from fastmcp) (1.1.1)\n",
      "Requirement already satisfied: rich>=13.9.4 in /home/codespace/miniconda3/lib/python3.10/site-packages (from fastmcp) (13.9.4)\n",
      "Requirement already satisfied: cryptography in /home/codespace/miniconda3/lib/python3.10/site-packages (from authlib>=1.5.2->fastmcp) (44.0.1)\n",
      "Requirement already satisfied: attrs>=23.1.0 in /home/codespace/miniconda3/lib/python3.10/site-packages (from cyclopts>=3.0.0->fastmcp) (25.3.0)\n",
      "Collecting docstring-parser>=0.15 (from cyclopts>=3.0.0->fastmcp)\n",
      "  Downloading docstring_parser-0.17.0-py3-none-any.whl.metadata (3.5 kB)\n",
      "Collecting rich-rst<2.0.0,>=1.3.1 (from cyclopts>=3.0.0->fastmcp)\n",
      "  Downloading rich_rst-1.3.1-py3-none-any.whl.metadata (6.0 kB)\n",
      "Requirement already satisfied: typing-extensions>=4.8.0 in /home/codespace/miniconda3/lib/python3.10/site-packages (from cyclopts>=3.0.0->fastmcp) (4.12.2)\n",
      "Requirement already satisfied: anyio in /home/codespace/miniconda3/lib/python3.10/site-packages (from httpx>=0.28.1->fastmcp) (4.9.0)\n",
      "Requirement already satisfied: certifi in /home/codespace/miniconda3/lib/python3.10/site-packages (from httpx>=0.28.1->fastmcp) (2025.4.26)\n",
      "Requirement already satisfied: httpcore==1.* in /home/codespace/miniconda3/lib/python3.10/site-packages (from httpx>=0.28.1->fastmcp) (1.0.9)\n",
      "Requirement already satisfied: idna in /home/codespace/miniconda3/lib/python3.10/site-packages (from httpx>=0.28.1->fastmcp) (3.7)\n",
      "Requirement already satisfied: h11>=0.16 in /home/codespace/miniconda3/lib/python3.10/site-packages (from httpcore==1.*->httpx>=0.28.1->fastmcp) (0.16.0)\n",
      "Requirement already satisfied: httpx-sse>=0.4 in /home/codespace/miniconda3/lib/python3.10/site-packages (from mcp>=1.10.0->fastmcp) (0.4.0)\n",
      "Requirement already satisfied: jsonschema>=4.20.0 in /home/codespace/miniconda3/lib/python3.10/site-packages (from mcp>=1.10.0->fastmcp) (4.24.0)\n",
      "Requirement already satisfied: pydantic-settings>=2.5.2 in /home/codespace/miniconda3/lib/python3.10/site-packages (from mcp>=1.10.0->fastmcp) (2.10.1)\n",
      "Requirement already satisfied: python-multipart>=0.0.9 in /home/codespace/miniconda3/lib/python3.10/site-packages (from mcp>=1.10.0->fastmcp) (0.0.20)\n",
      "Requirement already satisfied: sse-starlette>=1.6.1 in /home/codespace/miniconda3/lib/python3.10/site-packages (from mcp>=1.10.0->fastmcp) (3.0.2)\n",
      "Requirement already satisfied: starlette>=0.27 in /home/codespace/miniconda3/lib/python3.10/site-packages (from mcp>=1.10.0->fastmcp) (0.47.2)\n",
      "Requirement already satisfied: uvicorn>=0.23.1 in /home/codespace/miniconda3/lib/python3.10/site-packages (from mcp>=1.10.0->fastmcp) (0.35.0)\n",
      "Collecting isodate (from openapi-core>=0.19.5->fastmcp)\n",
      "  Downloading isodate-0.7.2-py3-none-any.whl.metadata (11 kB)\n",
      "Collecting jsonschema-path<0.4.0,>=0.3.1 (from openapi-core>=0.19.5->fastmcp)\n",
      "  Downloading jsonschema_path-0.3.4-py3-none-any.whl.metadata (4.3 kB)\n",
      "Collecting more-itertools (from openapi-core>=0.19.5->fastmcp)\n",
      "  Downloading more_itertools-10.7.0-py3-none-any.whl.metadata (37 kB)\n",
      "Collecting openapi-schema-validator<0.7.0,>=0.6.0 (from openapi-core>=0.19.5->fastmcp)\n",
      "  Downloading openapi_schema_validator-0.6.3-py3-none-any.whl.metadata (5.4 kB)\n",
      "Collecting openapi-spec-validator<0.8.0,>=0.7.1 (from openapi-core>=0.19.5->fastmcp)\n",
      "  Downloading openapi_spec_validator-0.7.2-py3-none-any.whl.metadata (5.7 kB)\n",
      "Collecting parse (from openapi-core>=0.19.5->fastmcp)\n",
      "  Downloading parse-1.20.2-py2.py3-none-any.whl.metadata (22 kB)\n",
      "Collecting werkzeug<3.1.2 (from openapi-core>=0.19.5->fastmcp)\n",
      "  Downloading werkzeug-3.1.1-py3-none-any.whl.metadata (3.7 kB)\n",
      "Requirement already satisfied: annotated-types>=0.6.0 in /home/codespace/miniconda3/lib/python3.10/site-packages (from pydantic>=2.11.7->pydantic[email]>=2.11.7->fastmcp) (0.6.0)\n",
      "Requirement already satisfied: pydantic-core==2.33.2 in /home/codespace/miniconda3/lib/python3.10/site-packages (from pydantic>=2.11.7->pydantic[email]>=2.11.7->fastmcp) (2.33.2)\n",
      "Requirement already satisfied: typing-inspection>=0.4.0 in /home/codespace/miniconda3/lib/python3.10/site-packages (from pydantic>=2.11.7->pydantic[email]>=2.11.7->fastmcp) (0.4.1)\n",
      "Collecting email-validator>=2.0.0 (from pydantic[email]>=2.11.7->fastmcp)\n",
      "  Downloading email_validator-2.2.0-py3-none-any.whl.metadata (25 kB)\n",
      "Requirement already satisfied: markdown-it-py>=2.2.0 in /home/codespace/miniconda3/lib/python3.10/site-packages (from rich>=13.9.4->fastmcp) (2.2.0)\n",
      "Requirement already satisfied: pygments<3.0.0,>=2.13.0 in /home/codespace/miniconda3/lib/python3.10/site-packages (from rich>=13.9.4->fastmcp) (2.19.1)\n",
      "Requirement already satisfied: sniffio>=1.1 in /home/codespace/miniconda3/lib/python3.10/site-packages (from anyio->httpx>=0.28.1->fastmcp) (1.3.1)\n",
      "Collecting dnspython>=2.0.0 (from email-validator>=2.0.0->pydantic[email]>=2.11.7->fastmcp)\n",
      "  Downloading dnspython-2.7.0-py3-none-any.whl.metadata (5.8 kB)\n",
      "Requirement already satisfied: jsonschema-specifications>=2023.03.6 in /home/codespace/miniconda3/lib/python3.10/site-packages (from jsonschema>=4.20.0->mcp>=1.10.0->fastmcp) (2025.4.1)\n",
      "Requirement already satisfied: referencing>=0.28.4 in /home/codespace/miniconda3/lib/python3.10/site-packages (from jsonschema>=4.20.0->mcp>=1.10.0->fastmcp) (0.36.2)\n",
      "Requirement already satisfied: rpds-py>=0.7.1 in /home/codespace/miniconda3/lib/python3.10/site-packages (from jsonschema>=4.20.0->mcp>=1.10.0->fastmcp) (0.25.1)\n",
      "Requirement already satisfied: PyYAML>=5.1 in /home/codespace/miniconda3/lib/python3.10/site-packages (from jsonschema-path<0.4.0,>=0.3.1->openapi-core>=0.19.5->fastmcp) (6.0.2)\n",
      "Collecting pathable<0.5.0,>=0.4.1 (from jsonschema-path<0.4.0,>=0.3.1->openapi-core>=0.19.5->fastmcp)\n",
      "  Downloading pathable-0.4.4-py3-none-any.whl.metadata (1.8 kB)\n",
      "Requirement already satisfied: requests<3.0.0,>=2.31.0 in /home/codespace/miniconda3/lib/python3.10/site-packages (from jsonschema-path<0.4.0,>=0.3.1->openapi-core>=0.19.5->fastmcp) (2.32.4)\n",
      "Requirement already satisfied: mdurl~=0.1 in /home/codespace/miniconda3/lib/python3.10/site-packages (from markdown-it-py>=2.2.0->rich>=13.9.4->fastmcp) (0.1.0)\n",
      "Requirement already satisfied: rfc3339-validator in /home/codespace/miniconda3/lib/python3.10/site-packages (from openapi-schema-validator<0.7.0,>=0.6.0->openapi-core>=0.19.5->fastmcp) (0.1.4)\n",
      "Collecting lazy-object-proxy<2.0.0,>=1.7.1 (from openapi-spec-validator<0.8.0,>=0.7.1->openapi-core>=0.19.5->fastmcp)\n",
      "  Downloading lazy_object_proxy-1.11.0-py3-none-any.whl.metadata (8.2 kB)\n",
      "Collecting docutils (from rich-rst<2.0.0,>=1.3.1->cyclopts>=3.0.0->fastmcp)\n",
      "  Downloading docutils-0.22-py3-none-any.whl.metadata (15 kB)\n",
      "Requirement already satisfied: click>=7.0 in /home/codespace/miniconda3/lib/python3.10/site-packages (from uvicorn>=0.23.1->mcp>=1.10.0->fastmcp) (8.2.1)\n",
      "Requirement already satisfied: MarkupSafe>=2.1.1 in /home/codespace/miniconda3/lib/python3.10/site-packages (from werkzeug<3.1.2->openapi-core>=0.19.5->fastmcp) (3.0.2)\n",
      "Requirement already satisfied: cffi>=1.12 in /home/codespace/miniconda3/lib/python3.10/site-packages (from cryptography->authlib>=1.5.2->fastmcp) (1.17.1)\n",
      "Requirement already satisfied: pycparser in /home/codespace/miniconda3/lib/python3.10/site-packages (from cffi>=1.12->cryptography->authlib>=1.5.2->fastmcp) (2.21)\n",
      "Requirement already satisfied: charset_normalizer<4,>=2 in /home/codespace/miniconda3/lib/python3.10/site-packages (from requests<3.0.0,>=2.31.0->jsonschema-path<0.4.0,>=0.3.1->openapi-core>=0.19.5->fastmcp) (3.3.2)\n",
      "Requirement already satisfied: urllib3<3,>=1.21.1 in /home/codespace/miniconda3/lib/python3.10/site-packages (from requests<3.0.0,>=2.31.0->jsonschema-path<0.4.0,>=0.3.1->openapi-core>=0.19.5->fastmcp) (2.3.0)\n",
      "Requirement already satisfied: six in /home/codespace/miniconda3/lib/python3.10/site-packages (from rfc3339-validator->openapi-schema-validator<0.7.0,>=0.6.0->openapi-core>=0.19.5->fastmcp) (1.17.0)\n",
      "Downloading fastmcp-2.11.2-py3-none-any.whl (257 kB)\n",
      "Downloading authlib-1.6.1-py2.py3-none-any.whl (239 kB)\n",
      "Downloading cyclopts-3.22.5-py3-none-any.whl (84 kB)\n",
      "Downloading openapi_core-0.19.5-py3-none-any.whl (106 kB)\n",
      "Downloading openapi_pydantic-0.5.1-py3-none-any.whl (96 kB)\n",
      "Downloading docstring_parser-0.17.0-py3-none-any.whl (36 kB)\n",
      "Downloading email_validator-2.2.0-py3-none-any.whl (33 kB)\n",
      "Downloading jsonschema_path-0.3.4-py3-none-any.whl (14 kB)\n",
      "Downloading openapi_schema_validator-0.6.3-py3-none-any.whl (8.8 kB)\n",
      "Downloading openapi_spec_validator-0.7.2-py3-none-any.whl (39 kB)\n",
      "Downloading rich_rst-1.3.1-py3-none-any.whl (11 kB)\n",
      "Downloading werkzeug-3.1.1-py3-none-any.whl (224 kB)\n",
      "Downloading isodate-0.7.2-py3-none-any.whl (22 kB)\n",
      "Downloading more_itertools-10.7.0-py3-none-any.whl (65 kB)\n",
      "Downloading parse-1.20.2-py2.py3-none-any.whl (20 kB)\n",
      "Downloading dnspython-2.7.0-py3-none-any.whl (313 kB)\n",
      "Downloading lazy_object_proxy-1.11.0-py3-none-any.whl (16 kB)\n",
      "Downloading pathable-0.4.4-py3-none-any.whl (9.6 kB)\n",
      "Downloading docutils-0.22-py3-none-any.whl (630 kB)\n",
      "\u001b[2K   \u001b[90m━━━━━━━━━━━━━━━━━━━━━━━━━━━━━━━━━━━━━━━━\u001b[0m \u001b[32m630.7/630.7 kB\u001b[0m \u001b[31m26.1 MB/s\u001b[0m eta \u001b[36m0:00:00\u001b[0m\n",
      "\u001b[?25hBuilding wheels for collected packages: pyperclip\n",
      "  Building wheel for pyperclip (setup.py) ... \u001b[?25ldone\n",
      "\u001b[?25h  Created wheel for pyperclip: filename=pyperclip-1.9.0-py3-none-any.whl size=11103 sha256=098c20cca5eba5f2b872972de3ad0cdb8493847a989a0a0a4905af6c745a28c8\n",
      "  Stored in directory: /home/codespace/.cache/pip/wheels/cc/ae/36/ee17d1de094fcb61e24106cb329b5103861e819f94bef5e10a\n",
      "Successfully built pyperclip\n",
      "Installing collected packages: pyperclip, parse, werkzeug, pathable, more-itertools, lazy-object-proxy, isodate, docutils, docstring-parser, dnspython, jsonschema-path, email-validator, rich-rst, openapi-pydantic, authlib, openapi-schema-validator, cyclopts, openapi-spec-validator, openapi-core, fastmcp\n",
      "Successfully installed authlib-1.6.1 cyclopts-3.22.5 dnspython-2.7.0 docstring-parser-0.17.0 docutils-0.22 email-validator-2.2.0 fastmcp-2.11.2 isodate-0.7.2 jsonschema-path-0.3.4 lazy-object-proxy-1.11.0 more-itertools-10.7.0 openapi-core-0.19.5 openapi-pydantic-0.5.1 openapi-schema-validator-0.6.3 openapi-spec-validator-0.7.2 parse-1.20.2 pathable-0.4.4 pyperclip-1.9.0 rich-rst-1.3.1 werkzeug-3.1.1\n",
      "Note: you may need to restart the kernel to use updated packages.\n"
     ]
    }
   ],
   "source": [
    "%pip install fastmcp"
   ]
  },
  {
   "cell_type": "markdown",
   "id": "32e03bdd",
   "metadata": {},
   "source": [
    "### Answer:\n",
    "* Q: What's the version of FastMCP you installed?\n",
    "* A: fastmcp-2.11.2"
   ]
  },
  {
   "cell_type": "markdown",
   "id": "b82cc84c",
   "metadata": {},
   "source": [
    "### Q4. Simple MCP Server\n",
    "A simple MCP server from the documentation looks like that:"
   ]
  },
  {
   "cell_type": "code",
   "execution_count": null,
   "id": "d93d784e",
   "metadata": {},
   "outputs": [],
   "source": [
    "# weather_server.py\n",
    "from fastmcp import FastMCP\n",
    "mcp = FastMCP(\"Demo 🚀\")\n",
    "@mcp.tool\n",
    "def add(a: int, b: int) -> int:\n",
    "    \"\"\"Add two numbers\"\"\"\n",
    "    return a + b\n",
    "if __name__ == \"__main__\":\n",
    "    mcp.run()"
   ]
  },
  {
   "cell_type": "markdown",
   "id": "cb616391",
   "metadata": {},
   "source": [
    "In our case, we need to write docstrings for our functions.\n",
    "Let's ask ChatGPT for help:"
   ]
  },
  {
   "cell_type": "code",
   "execution_count": null,
   "id": "a6f53e62",
   "metadata": {},
   "outputs": [],
   "source": [
    "def get_weather(city: str) -> float:\n",
    "    \"\"\"\n",
    "    Retrieves the temperature for a specified city.\n",
    "    Parameters:\n",
    "        city (str): The name of the city for which to retrieve weather data.\n",
    "    Returns:\n",
    "        float: The temperature associated with the city.\n",
    "    \"\"\"\n",
    "    city = city.strip().lower()\n",
    "    if city in known_weather_data:\n",
    "        return known_weather_data[city]\n",
    "    return round(random.uniform(-5, 35), 1)\n",
    "\n",
    "def set_weather(city: str, temp: float) -> None:\n",
    "    \"\"\"\n",
    "    Sets the temperature for a specified city.\n",
    "    Parameters:\n",
    "        city (str): The name of the city for which to set the weather data.\n",
    "        temp (float): The temperature to associate with the city.\n",
    "    Returns:\n",
    "        str: A confirmation string 'OK' indicating successful update.\n",
    "    \"\"\"\n",
    "    city = city.strip().lower()\n",
    "    known_weather_data[city] = temp\n",
    "    return 'OK'"
   ]
  },
  {
   "cell_type": "markdown",
   "id": "c520934a",
   "metadata": {},
   "source": [
    "Let's change the example for our case and run it\n",
    "What do you see in the output?\n",
    "Look for a string that matches this template:\n",
    "Starting MCP server 'Demo 🚀' with transport `<TODO>`\n",
    "What do you have instead of `<TODO>`?"
   ]
  },
  {
   "cell_type": "markdown",
   "id": "24699080",
   "metadata": {},
   "source": [
    "1. Write MCP server (See weather_server.py Python script)\n",
    "2. Run in terminal:\n",
    "    `python weather_server.py`\n",
    "3. Observe the output"
   ]
  },
  {
   "cell_type": "markdown",
   "id": "6343e1fe",
   "metadata": {},
   "source": [
    "### Answer:\n",
    "* Q: What do you see in the output? What do you have instead of <TODO>?\n",
    "* A: stdio"
   ]
  },
  {
   "cell_type": "markdown",
   "id": "339a85a8",
   "metadata": {},
   "source": [
    "### Q5. Protocol\n",
    "There are different ways to communicate with an MCP server. Ours is currently running using standart input/output, which means that the client write something to stdin and read the answer using stdout.\n",
    "Our weather server is currently running.\n",
    "This is how we start communitcating with it:\n",
    "\n",
    "* First, we send an initialization request -- this way, we register our client with the server:\n",
    "\n",
    "```json\n",
    "{\"jsonrpc\": \"2.0\", \"id\": 1, \"method\": \"initialize\", \"params\": {\"protocolVersion\": \"2024-11-05\", \"capabilities\": {\"roots\": {\"listChanged\": true}, \"sampling\": {}}, \"clientInfo\": {\"name\": \"test-client\", \"version\": \"1.0.0\"}}}\n",
    "```\n",
    "\n",
    "We should get back something like that, which is an aknowledgement of the request:\n",
    "```json\n",
    "{\"jsonrpc\":\"2.0\",\"id\":1,\"result\":{\"protocolVersion\":\"2024-11-05\",\"capabilities\":{\"experimental\":{},\"prompts\":{\"listChanged\":false},\"resources\":{\"subscribe\":false,\"listChanged\":false},\"tools\":{\"listChanged\":true}},\"serverInfo\":{\"name\":\"Demo 🚀\",\"version\":\"1.9.4\"}}}\n",
    "```\n",
    "* Next, we reply back, confirming the initialization:\n",
    "\n",
    "```json\n",
    "{\"jsonrpc\": \"2.0\", \"method\": \"notifications/initialized\"}\n",
    "```\n",
    "\n",
    "We don't expect to get anything in response\n",
    "\n",
    "* Now we can ask for a list of available methods:\n",
    "\n",
    "```json\n",
    "{\"jsonrpc\": \"2.0\", \"id\": 2, \"method\": \"tools/list\"}\n",
    "```\n",
    "\n",
    "* Let's ask the temperature in Berlin:\n",
    "\n",
    "```json\n",
    "{\"jsonrpc\": \"2.0\", \"id\": 3, \"method\": \"tools/call\", \"params\": {\"name\": \"<TODO>\", \"arguments\": {<TODO>}}}\n",
    "```\n",
    "\n",
    "* What did you get in response?"
   ]
  },
  {
   "cell_type": "markdown",
   "id": "7f62d0bd",
   "metadata": {},
   "source": [
    "Run in terminal after preliminary JSON protocol:\n",
    "\n",
    "{\"jsonrpc\": \"2.0\", \"id\": 3, \"method\": \"tools/call\", \"params\": {\"name\": \"get_weather\", \"arguments\": {\"city\": \"berlin\"}}}"
   ]
  },
  {
   "cell_type": "markdown",
   "id": "f692e979",
   "metadata": {},
   "source": [
    "### Answer:\n",
    "* Q: What did you get in response?\n",
    "* A: 6.9"
   ]
  },
  {
   "cell_type": "markdown",
   "id": "946a1a85",
   "metadata": {},
   "source": [
    "### Q6. Client\n",
    "We typically don't interact with the server by copy-pasting commands in the terminal.\n",
    "In practice, we use an MCP Client. Let's implement it.\n",
    "FastMCP also supports MCP clients:\n",
    "```python\n",
    "from fastmcp import Client\n",
    "async def main():\n",
    "    async with Client(<TODO>) as mcp_client:\n",
    "        # TODO\n",
    "```\n",
    "Use the client to get the list of available tools of our script. How does the result look like?\n",
    "If you're running this code in Jupyter, you need to pass an instance of MCP server to the Client:\n",
    "```python\n",
    "import weather_server\n",
    "async def main():\n",
    "    async with Client(weather_server.mcp) as mcp_client:\n",
    "        # ....\n",
    "```\n",
    "If you run it in a script, you will need to use asyncio:\n",
    "```python\n",
    "import asyncio\n",
    "async def main():\n",
    "    async with Client(\"weather_server.py\") as mcp_client:\n",
    "        # ...\n",
    "```\n",
    "```python\n",
    "if __name__ == \"__main__\":\n",
    "    test = asyncio.run(main())\n",
    "```\n",
    "Copy the output with the available tools when filling in the homework form.\n",
    "\n"
   ]
  },
  {
   "cell_type": "markdown",
   "id": "0b75c35a",
   "metadata": {},
   "source": [
    "Write mcp_client.py script to:\n",
    "\n",
    "1. Start the MCP server (if not already running).\n",
    "2. Open a subprocess to communicate with it via stdin/stdout.\n",
    "3. Send the JSON-RPC requests (python mcp_client.py).\n",
    "4. Read and parse the responses."
   ]
  },
  {
   "cell_type": "markdown",
   "id": "4593164a",
   "metadata": {},
   "source": [
    "### Answer:\n",
    "* Q: Copy the output with the available tools when filling in the homework form\n",
    "* A: {'name': 'get_weather', 'description': 'Retrieves the temperature for a specified city.\\nParameters:\\n    city (str): The name of the city for which to retrieve weather data.\\nReturns:\\n    float: The temperature associated with the city.', 'inputSchema': {'properties': {'city': {'title': 'City', 'type': 'string'}}, 'required': ['city'], 'type': 'object'}, 'outputSchema': {'properties': {'result': {'title': 'Result', 'type': 'number'}}, 'required': ['result'], 'title': '_WrappedResult', 'type': 'object', 'x-fastmcp-wrap-result': True}, '_meta': {'_fastmcp': {'tags': []}}}\n",
    "{'name': 'set_weather', 'description': \"Sets the temperature for a specified city.\\nParameters:\\n    city (str): The name of the city for which to set the weather data.\\n    temp (float): The temperature to associate with the city.\\nReturns:\\n    str: A confirmation string 'OK' indicating successful update.\", 'inputSchema': {'properties': {'city': {'title': 'City', 'type': 'string'}, 'temp': {'title': 'Temp', 'type': 'number'}}, 'required': ['city', 'temp'], 'type': 'object'}, 'outputSchema': {'properties': {'result': {'title': 'Result', 'type': 'string'}}, 'required': ['result'], 'title': '_WrappedResult', 'type': 'object', 'x-fastmcp-wrap-result': True}, '_meta': {'_fastmcp': {'tags': []}}}"
   ]
  }
 ],
 "metadata": {
  "language_info": {
   "name": "python"
  }
 },
 "nbformat": 4,
 "nbformat_minor": 5
}
