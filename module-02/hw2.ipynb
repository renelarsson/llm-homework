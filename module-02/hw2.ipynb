{
 "cells": [
  {
   "cell_type": "markdown",
   "id": "d12aa636",
   "metadata": {},
   "source": [
    "## Homework 02 – Vector Search"
   ]
  },
  {
   "cell_type": "markdown",
   "id": "080b2acd",
   "metadata": {},
   "source": [
    "### Q1. Embedding the query"
   ]
  },
  {
   "cell_type": "code",
   "execution_count": 1,
   "id": "60e6bcd6",
   "metadata": {},
   "outputs": [
    {
     "name": "stdout",
     "output_type": "stream",
     "text": [
      "Requirement already satisfied: fastembed in /home/codespace/miniconda3/lib/python3.10/site-packages (0.7.1)\n",
      "Requirement already satisfied: huggingface-hub<1.0,>=0.20 in /home/codespace/miniconda3/lib/python3.10/site-packages (from fastembed) (0.33.1)\n",
      "Requirement already satisfied: loguru<0.8.0,>=0.7.2 in /home/codespace/miniconda3/lib/python3.10/site-packages (from fastembed) (0.7.3)\n",
      "Requirement already satisfied: mmh3<6.0.0,>=4.1.0 in /home/codespace/miniconda3/lib/python3.10/site-packages (from fastembed) (5.1.0)\n",
      "Requirement already satisfied: numpy>=1.21 in /home/codespace/miniconda3/lib/python3.10/site-packages (from fastembed) (2.2.6)\n",
      "Requirement already satisfied: onnxruntime!=1.20.0,>=1.17.0 in /home/codespace/miniconda3/lib/python3.10/site-packages (from fastembed) (1.22.0)\n",
      "Requirement already satisfied: pillow<12.0.0,>=10.3.0 in /home/codespace/miniconda3/lib/python3.10/site-packages (from fastembed) (11.2.1)\n",
      "Requirement already satisfied: py-rust-stemmers<0.2.0,>=0.1.0 in /home/codespace/miniconda3/lib/python3.10/site-packages (from fastembed) (0.1.5)\n",
      "Requirement already satisfied: requests<3.0,>=2.31 in /home/codespace/miniconda3/lib/python3.10/site-packages (from fastembed) (2.32.3)\n",
      "Requirement already satisfied: tokenizers<1.0,>=0.15 in /home/codespace/miniconda3/lib/python3.10/site-packages (from fastembed) (0.21.2)\n",
      "Requirement already satisfied: tqdm<5.0,>=4.66 in /home/codespace/miniconda3/lib/python3.10/site-packages (from fastembed) (4.67.1)\n",
      "Requirement already satisfied: filelock in /home/codespace/miniconda3/lib/python3.10/site-packages (from huggingface-hub<1.0,>=0.20->fastembed) (3.18.0)\n",
      "Requirement already satisfied: fsspec>=2023.5.0 in /home/codespace/miniconda3/lib/python3.10/site-packages (from huggingface-hub<1.0,>=0.20->fastembed) (2025.5.1)\n",
      "Requirement already satisfied: packaging>=20.9 in /home/codespace/miniconda3/lib/python3.10/site-packages (from huggingface-hub<1.0,>=0.20->fastembed) (24.2)\n",
      "Requirement already satisfied: pyyaml>=5.1 in /home/codespace/miniconda3/lib/python3.10/site-packages (from huggingface-hub<1.0,>=0.20->fastembed) (6.0.2)\n",
      "Requirement already satisfied: typing-extensions>=3.7.4.3 in /home/codespace/miniconda3/lib/python3.10/site-packages (from huggingface-hub<1.0,>=0.20->fastembed) (4.12.2)\n",
      "Requirement already satisfied: hf-xet<2.0.0,>=1.1.2 in /home/codespace/miniconda3/lib/python3.10/site-packages (from huggingface-hub<1.0,>=0.20->fastembed) (1.1.5)\n",
      "Requirement already satisfied: coloredlogs in /home/codespace/miniconda3/lib/python3.10/site-packages (from onnxruntime!=1.20.0,>=1.17.0->fastembed) (15.0.1)\n",
      "Requirement already satisfied: flatbuffers in /home/codespace/miniconda3/lib/python3.10/site-packages (from onnxruntime!=1.20.0,>=1.17.0->fastembed) (25.2.10)\n",
      "Requirement already satisfied: protobuf in /home/codespace/miniconda3/lib/python3.10/site-packages (from onnxruntime!=1.20.0,>=1.17.0->fastembed) (6.31.1)\n",
      "Requirement already satisfied: sympy in /home/codespace/miniconda3/lib/python3.10/site-packages (from onnxruntime!=1.20.0,>=1.17.0->fastembed) (1.14.0)\n",
      "Requirement already satisfied: charset-normalizer<4,>=2 in /home/codespace/miniconda3/lib/python3.10/site-packages (from requests<3.0,>=2.31->fastembed) (3.3.2)\n",
      "Requirement already satisfied: idna<4,>=2.5 in /home/codespace/miniconda3/lib/python3.10/site-packages (from requests<3.0,>=2.31->fastembed) (3.7)\n",
      "Requirement already satisfied: urllib3<3,>=1.21.1 in /home/codespace/miniconda3/lib/python3.10/site-packages (from requests<3.0,>=2.31->fastembed) (2.3.0)\n",
      "Requirement already satisfied: certifi>=2017.4.17 in /home/codespace/miniconda3/lib/python3.10/site-packages (from requests<3.0,>=2.31->fastembed) (2025.4.26)\n",
      "Requirement already satisfied: humanfriendly>=9.1 in /home/codespace/miniconda3/lib/python3.10/site-packages (from coloredlogs->onnxruntime!=1.20.0,>=1.17.0->fastembed) (10.0)\n",
      "Requirement already satisfied: mpmath<1.4,>=1.1.0 in /home/codespace/miniconda3/lib/python3.10/site-packages (from sympy->onnxruntime!=1.20.0,>=1.17.0->fastembed) (1.3.0)\n"
     ]
    }
   ],
   "source": [
    "!pip install fastembed"
   ]
  },
  {
   "cell_type": "code",
   "execution_count": 2,
   "id": "4f634522",
   "metadata": {},
   "outputs": [
    {
     "name": "stdout",
     "output_type": "stream",
     "text": [
      "Shape of the embedding: (512,)\n",
      "Minimal value in the embedding: -0.11726373885183883\n"
     ]
    }
   ],
   "source": [
    "import numpy as np\n",
    "from fastembed import TextEmbedding\n",
    "\n",
    "# Create the embedding model\n",
    "model = TextEmbedding(model_name=\"jinaai/jina-embeddings-v2-small-en\")\n",
    "\n",
    "# Embed the query\n",
    "query = \"I just discovered the course. Can I join now?\"\n",
    "# R: model.embed([query]) returns a generator that yields embeddings for each input string (here, just one string in a list)\n",
    "q = next(model.embed([query])) # R: next(...) gets the first (and only) embedding from the generator\n",
    "\n",
    "# Check the shape and minimal value of the embedding\n",
    "print(\"Shape of the embedding:\", q.shape)\n",
    "print(\"Minimal value in the embedding:\", np.min(q))"
   ]
  },
  {
   "cell_type": "markdown",
   "id": "580dca9b",
   "metadata": {},
   "source": [
    "### Q2. Cosine similarity with another vector\n"
   ]
  },
  {
   "cell_type": "code",
   "execution_count": 3,
   "id": "600c31ba",
   "metadata": {},
   "outputs": [
    {
     "name": "stdout",
     "output_type": "stream",
     "text": [
      "1.0000000000000002\n",
      "1.0\n"
     ]
    },
    {
     "data": {
      "text/plain": [
       "array([-7.63946260e-02, -7.30555505e-02,  5.86501763e-02,  3.92670571e-02,\n",
       "       -1.41797115e-02, -4.68342854e-02,  2.69862822e-02,  3.49039060e-02,\n",
       "        1.53419217e-03, -1.10407363e-02,  5.57556285e-02, -2.88360142e-02,\n",
       "       -4.87239498e-02, -9.90923923e-02,  6.02579764e-02, -1.86105379e-02,\n",
       "       -8.81040139e-03, -3.01994831e-02, -1.42541815e-02, -3.87884212e-02,\n",
       "       -2.76125662e-02, -6.94957533e-03,  3.20653319e-02, -5.17838394e-03,\n",
       "        8.37959894e-02, -8.87329606e-02, -7.30260625e-02,  5.92846802e-02,\n",
       "        4.07805674e-02,  7.72684822e-02, -4.60029697e-02,  3.98426895e-02,\n",
       "        1.74821510e-02,  8.70263712e-03, -3.09291054e-02,  2.20470391e-02,\n",
       "        4.76479896e-02,  1.76566196e-02, -3.62013627e-02, -3.53408062e-02,\n",
       "       -5.92537995e-03,  2.97091202e-02,  8.05883752e-02,  1.07132722e-02,\n",
       "       -5.38192519e-02, -9.62881111e-03, -1.17263739e-01,  3.36546374e-02,\n",
       "        7.05763168e-03,  7.70159791e-03, -5.17482529e-02,  5.46955574e-02,\n",
       "       -7.80289904e-02,  4.21801655e-02,  1.26250977e-02,  5.31339061e-02,\n",
       "       -2.67777188e-02,  1.68820697e-02, -3.75064593e-02,  9.13196419e-03,\n",
       "        2.13696828e-02,  1.60150107e-02, -5.05650168e-02,  5.62205981e-02,\n",
       "       -3.66802752e-02, -3.85416649e-02, -4.21257068e-02, -1.36921605e-02,\n",
       "       -8.58582000e-02,  2.62640812e-02, -6.18555653e-02, -8.85548653e-03,\n",
       "        1.23171107e-01, -6.75609552e-02, -4.34100617e-03,  1.59791480e-02,\n",
       "       -4.54303694e-02,  7.61061035e-02,  1.84935283e-02, -3.07273239e-02,\n",
       "       -4.37180980e-02, -4.74576970e-02, -1.95920213e-02,  1.23776773e-02,\n",
       "       -9.96104568e-03, -6.74156430e-02,  2.54752070e-02,  1.22318157e-02,\n",
       "        5.58628908e-02, -3.14317861e-02, -7.23993812e-03,  6.33249508e-02,\n",
       "        5.72494416e-03, -6.21999926e-02, -3.08616666e-02, -4.27290132e-02,\n",
       "        5.16963715e-02,  3.27879512e-02, -2.44813464e-02,  1.79127801e-02,\n",
       "        9.48254300e-02,  2.18383887e-04,  7.01356128e-02, -2.01385767e-02,\n",
       "        3.64990936e-02,  2.13020106e-02, -5.67677388e-02, -3.08141841e-02,\n",
       "       -1.13907057e-01, -2.70064381e-02,  2.60184816e-03, -3.29073599e-02,\n",
       "       -2.55483216e-02, -3.43663291e-03, -5.98275691e-02,  1.65986045e-02,\n",
       "        7.20702840e-02, -4.90840227e-02, -4.08007783e-02, -1.96389009e-02,\n",
       "        5.16470383e-02,  2.06059173e-02, -1.93461828e-02,  3.72109559e-02,\n",
       "        5.30464167e-02,  7.98735160e-02,  8.71969437e-04, -3.86963865e-03,\n",
       "       -1.05970662e-02,  2.70435984e-03, -2.64808107e-02,  2.43888780e-02,\n",
       "       -2.96613003e-02,  1.24279089e-02,  1.33079558e-01, -3.45950744e-02,\n",
       "       -4.59976034e-03,  3.19832290e-02, -3.03514393e-02,  3.81469801e-02,\n",
       "       -4.84041680e-02, -4.63792157e-02,  4.00906577e-02, -4.82729863e-02,\n",
       "       -1.67069455e-02,  3.55168502e-03,  6.37974835e-02, -5.38861010e-02,\n",
       "       -7.28366643e-02,  1.03431210e-04, -1.55753781e-02,  3.20123469e-02,\n",
       "       -6.41519738e-02, -1.35402483e-02, -1.19589491e-03,  8.67279173e-02,\n",
       "       -7.58013634e-03,  5.23631978e-02,  1.13389494e-02, -2.93922167e-02,\n",
       "       -1.96549197e-02,  7.33475686e-02, -1.86934887e-02, -4.86155360e-02,\n",
       "       -4.39756671e-02, -4.00230242e-02,  7.97138121e-02,  9.00253404e-02,\n",
       "       -5.18778926e-02,  8.56788887e-03,  5.70034858e-02,  2.18162346e-02,\n",
       "       -6.55327841e-02, -1.07204614e-02, -1.09933147e-01, -3.49229900e-02,\n",
       "       -1.67648673e-02,  1.53578421e-02, -4.12044263e-02, -3.24616957e-02,\n",
       "        2.44591813e-02, -3.86447249e-02, -2.74304005e-02,  2.07971664e-02,\n",
       "        2.59328065e-02, -4.47550373e-02, -2.40584152e-02,  7.30849360e-03,\n",
       "        1.92917565e-02, -2.69451117e-02,  1.38715598e-02,  6.96978341e-03,\n",
       "        1.17285654e-02, -1.83301697e-02, -2.18455101e-02,  2.70035214e-03,\n",
       "       -1.10025930e-02,  8.52295180e-03, -1.21902448e-03,  2.31681636e-02,\n",
       "        8.07126958e-03,  6.94039269e-02, -5.96166642e-02,  3.58433548e-02,\n",
       "       -4.35553226e-02,  4.33547736e-02, -4.15783640e-02, -5.66755635e-02,\n",
       "       -5.41887066e-02, -2.39018335e-02,  5.63714821e-03,  2.37437432e-02,\n",
       "        7.10345497e-02,  1.73168487e-02, -3.22589041e-02, -1.94681982e-02,\n",
       "       -1.88142497e-02, -2.30825031e-02,  3.37894944e-02, -1.82798398e-02,\n",
       "        3.88098424e-03,  1.84338045e-02, -4.55277628e-03,  2.63694266e-02,\n",
       "       -1.90359504e-02, -2.69390028e-02,  1.15375980e-02,  1.16613910e-02,\n",
       "       -8.27911303e-03, -3.64428532e-02,  9.96343799e-02, -2.95558942e-02,\n",
       "       -5.38948585e-02, -2.51995032e-02,  1.22391840e-02, -2.27057696e-02,\n",
       "        5.10331226e-03, -6.74026331e-03, -2.43784301e-02,  6.32223970e-04,\n",
       "       -7.28257728e-02,  3.13266362e-02,  6.93626651e-02, -4.75812931e-02,\n",
       "        3.87882214e-03,  3.42483823e-02,  7.59028679e-02, -9.77512922e-03,\n",
       "        4.14942597e-02,  7.31681366e-02, -1.54856581e-02, -1.17918575e-02,\n",
       "       -1.91986853e-02, -9.79173999e-02, -3.14926753e-02,  5.35587215e-02,\n",
       "       -2.07791778e-02,  6.31239230e-02, -5.97242859e-02, -2.34605019e-02,\n",
       "        1.62664047e-02,  5.36607945e-02, -1.37692602e-02,  6.59834105e-02,\n",
       "       -9.24494435e-03, -1.99639826e-03, -4.87563415e-02,  1.39512364e-02,\n",
       "        1.22513624e-02,  2.98668828e-02, -8.00471534e-03, -5.96026749e-03,\n",
       "        2.81731843e-02, -2.13344179e-02, -3.77622793e-02, -2.27153343e-02,\n",
       "        5.60920953e-02,  4.30224526e-03,  3.63267996e-02, -3.72252920e-02,\n",
       "       -4.53949945e-02,  5.85438537e-02,  1.51176422e-02,  1.58622231e-02,\n",
       "        7.37733782e-02, -2.13885598e-02,  3.21582294e-02,  4.98212947e-02,\n",
       "        1.01769604e-01, -1.24236435e-02,  1.43238043e-02, -9.48454560e-02,\n",
       "       -2.63608466e-02, -8.66007188e-03, -9.82907467e-03,  7.52736761e-02,\n",
       "        3.69446387e-02,  3.14539880e-02,  1.04801427e-03,  3.11805728e-02,\n",
       "        1.28968684e-02,  2.60712994e-02, -4.77127535e-02, -2.55665457e-02,\n",
       "        1.08133073e-02,  1.03259874e-02,  3.39032555e-02,  2.75457424e-03,\n",
       "       -4.14582012e-02, -1.88644922e-02, -7.76502173e-03, -2.58755999e-02,\n",
       "       -1.52598044e-02,  3.38669614e-02,  6.38997726e-02,  3.95947359e-02,\n",
       "        6.39279106e-02, -5.20339341e-02, -6.02775764e-02,  1.38304806e-02,\n",
       "       -3.38930505e-02,  8.20156635e-03,  4.29572420e-02,  2.78503586e-02,\n",
       "        4.60315577e-02,  3.15629126e-02, -6.26106865e-02, -2.00963853e-02,\n",
       "       -2.12951154e-02,  7.16957078e-03, -2.15068569e-02,  2.82382423e-02,\n",
       "       -5.88513197e-02, -9.00752448e-02, -4.32891886e-02,  1.63749742e-02,\n",
       "       -6.45089774e-02, -7.18055952e-02,  2.46501169e-02, -2.64174014e-02,\n",
       "        3.86115464e-02,  1.27169565e-02,  8.03685672e-04,  8.49159402e-02,\n",
       "        1.61136302e-02, -4.81793090e-03,  2.04594849e-02,  1.67128650e-02,\n",
       "       -3.03005825e-02, -1.24897047e-02, -3.63357728e-02,  1.44468333e-03,\n",
       "       -4.16270567e-02, -1.42457325e-02, -8.83564826e-02,  6.22003659e-03,\n",
       "       -2.39217371e-02, -7.03374646e-02, -1.11459769e-02,  1.11177866e-01,\n",
       "        6.87285555e-03, -7.54896071e-02, -1.73166835e-02,  6.21763840e-02,\n",
       "        4.25542051e-02, -1.69422625e-02, -1.63471712e-02, -3.44401454e-02,\n",
       "        4.77698132e-02,  2.33155298e-02,  8.94857826e-02,  1.42584208e-02,\n",
       "        1.43973414e-02, -5.88510365e-02,  3.24906040e-02, -3.99427283e-02,\n",
       "        4.31553610e-02, -7.62977668e-04,  1.45717973e-04, -1.85997997e-02,\n",
       "        1.81445612e-02,  1.57167364e-02,  1.29852596e-02, -5.66555449e-02,\n",
       "       -5.92251874e-02,  2.17671620e-02, -1.70178640e-02,  2.31958723e-02,\n",
       "        5.17287716e-02,  3.37852959e-03, -4.31143234e-02, -4.11303191e-02,\n",
       "       -3.27946610e-02,  2.10255619e-02,  4.65154831e-02, -7.14069534e-02,\n",
       "        6.12375013e-02,  5.74542284e-02, -1.79589860e-02,  7.42588820e-02,\n",
       "       -7.82925929e-03,  2.00935910e-02, -4.51636184e-02, -8.47051140e-03,\n",
       "       -4.02671006e-02, -3.99867475e-02, -7.70418961e-02, -1.81935777e-02,\n",
       "        2.48719998e-02,  1.00413838e-02,  5.88155492e-02,  1.62364723e-02,\n",
       "        6.73376058e-02,  1.34455565e-02, -3.37173721e-02, -7.30230081e-02,\n",
       "       -6.79930628e-02, -2.74973249e-02, -3.99597450e-02,  2.44650646e-02,\n",
       "        1.31535110e-02,  2.45552779e-03, -3.60949438e-02,  2.72918057e-02,\n",
       "        6.22414340e-02,  7.20206119e-03,  2.80186718e-02, -3.16789369e-02,\n",
       "        5.00258220e-02,  3.00860520e-02,  7.12026124e-03, -3.76218121e-02,\n",
       "       -4.77905406e-02,  3.03310049e-02, -7.07371730e-02,  4.68780653e-02,\n",
       "        2.32905925e-02, -8.25114015e-02,  2.57834102e-02, -8.21667654e-03,\n",
       "        1.05564397e-01, -9.76066944e-02,  3.49954042e-02,  2.96988144e-02,\n",
       "        6.05656990e-02,  9.99905877e-02,  6.00288395e-02, -2.74579383e-02,\n",
       "       -3.83101976e-02,  4.98680448e-02,  9.85788765e-03,  5.27928464e-02,\n",
       "       -4.71740333e-02,  2.29061163e-02, -1.41790659e-02, -2.21464944e-03,\n",
       "       -1.27322523e-02, -1.00020015e-01,  2.18197615e-02,  2.71504457e-02,\n",
       "        3.33837602e-02, -2.58465315e-02, -3.42772881e-02, -1.70145880e-02,\n",
       "        8.48108924e-03,  2.40059520e-02,  5.04427584e-02, -7.67204713e-03,\n",
       "        6.80716881e-02, -1.75598061e-02, -1.96400559e-02, -8.53397784e-02,\n",
       "       -3.29056414e-03,  4.06993761e-02,  9.23691839e-02,  1.29570486e-02,\n",
       "        5.61266639e-02,  4.19532063e-02, -5.81196839e-02,  9.31649506e-02,\n",
       "       -8.03499941e-02, -5.46839092e-02, -6.23098193e-02, -8.77602426e-02,\n",
       "       -3.27637979e-02, -3.68523842e-02,  2.54524859e-02, -3.51777163e-03,\n",
       "        6.20159225e-02,  3.89112303e-02, -4.91863775e-02, -6.71836526e-02,\n",
       "       -1.25448864e-02, -3.02974540e-02, -4.00670636e-02,  4.24238795e-02,\n",
       "        2.46685657e-02, -4.83336442e-02,  6.88141229e-02,  4.17306001e-02,\n",
       "        4.73113083e-02, -7.63803321e-02,  1.48983892e-02,  4.59311499e-02,\n",
       "       -2.27894423e-02,  7.15364112e-02, -2.08668148e-02, -4.33649954e-02,\n",
       "       -7.64807886e-02,  7.62216942e-02,  3.91963105e-02,  1.22587277e-02])"
      ]
     },
     "execution_count": 3,
     "metadata": {},
     "output_type": "execute_result"
    }
   ],
   "source": [
    "# R: This computes the dot product of the embedding with itself, which should be equal to the square of its norm\n",
    "print(q.dot(q)) \n",
    "# R: This computes the Euclidean norm (length) of the embedding vector\n",
    "print(np.linalg.norm(q)) \n",
    "# R: This will display the embedding vector for the query\n",
    "q"
   ]
  },
  {
   "cell_type": "code",
   "execution_count": 4,
   "id": "33997582",
   "metadata": {},
   "outputs": [
    {
     "name": "stdout",
     "output_type": "stream",
     "text": [
      "Cosine similarity: 0.9008528895674548\n"
     ]
    }
   ],
   "source": [
    "doc = \"Can I still join the course after the start date?\"\n",
    "# Get the embedding for the document\n",
    "doc_vector = next(model.embed([doc]))\n",
    "# Compute cosine similarity (dot product) between the query vector (q) and document vector (doc) \n",
    "cos_simil = q.dot(doc_vector)\n",
    "# Because both vectors are normalized (length 1), the dot product is equal to their cosine similarity\n",
    "print(\"Cosine similarity:\", cos_simil)"
   ]
  },
  {
   "cell_type": "markdown",
   "id": "004d5b27",
   "metadata": {},
   "source": [
    "### Q3. Ranking by cosine"
   ]
  },
  {
   "cell_type": "code",
   "execution_count": 5,
   "id": "7fcdfd6c",
   "metadata": {},
   "outputs": [
    {
     "name": "stdout",
     "output_type": "stream",
     "text": [
      "Cosine similarities: [0.76296847 0.81823782 0.80853974 0.7133079  0.73044992]\n",
      "Document index with the highest similarity: 1\n"
     ]
    }
   ],
   "source": [
    "documents = [\n",
    "    {'text': \"Yes, even if you don't register, you're still eligible to submit the homeworks.\\nBe aware, however, that there will be deadlines for turning in the final projects. So don't leave everything for the last minute.\",\n",
    "     'section': 'General course-related questions',\n",
    "     'question': 'Course - Can I still join the course after the start date?',\n",
    "     'course': 'data-engineering-zoomcamp'},\n",
    "    {'text': 'Yes, we will keep all the materials after the course finishes, so you can follow the course at your own pace after it finishes.\\nYou can also continue looking at the homeworks and continue preparing for the next cohort. I guess you can also start working on your final capstone project.',\n",
    "     'section': 'General course-related questions',\n",
    "     'question': 'Course - Can I follow the course after it finishes?',\n",
    "     'course': 'data-engineering-zoomcamp'},\n",
    "    {'text': \"The purpose of this document is to capture frequently asked technical questions\\nThe exact day and hour of the course will be 15th Jan 2024 at 17h00. The course will start with the first  “Office Hours'' live.1\\nSubscribe to course public Google Calendar (it works from Desktop only).\\nRegister before the course starts using this link.\\nJoin the course Telegram channel with announcements.\\nDon’t forget to register in DataTalks.Club's Slack and join the channel.\",\n",
    "     'section': 'General course-related questions',\n",
    "     'question': 'Course - When will the course start?',\n",
    "     'course': 'data-engineering-zoomcamp'},\n",
    "    {'text': 'You can start by installing and setting up all the dependencies and requirements:\\nGoogle cloud account\\nGoogle Cloud SDK\\nPython 3 (installed with Anaconda)\\nTerraform\\nGit\\nLook over the prerequisites and syllabus to see if you are comfortable with these subjects.',\n",
    "     'section': 'General course-related questions',\n",
    "     'question': 'Course - What can I do before the course starts?',\n",
    "     'course': 'data-engineering-zoomcamp'},\n",
    "    {'text': 'Star the repo! Share it with friends if you find it useful ❣️\\nCreate a PR if you see you can improve the text or the structure of the repository.',\n",
    "     'section': 'General course-related questions',\n",
    "     'question': 'How can we contribute to the course?',\n",
    "     'course': 'data-engineering-zoomcamp'}\n",
    "]\n",
    "\n",
    "# Embed the text field for each document\n",
    "text_embeddings = list(model.embed(doc['text'] for doc in documents))\n",
    "\n",
    "# Stack embeddings into a matrix\n",
    "V = np.stack(text_embeddings)\n",
    "\n",
    "# Compute cosine similarity for each document with the query vector q\n",
    "cosines = V.dot(q)\n",
    "\n",
    "# Print similarities and the index of the highest one\n",
    "print(\"Cosine similarities:\", cosines)\n",
    "print(\"Document index with the highest similarity:\", np.argmax(cosines))"
   ]
  },
  {
   "cell_type": "markdown",
   "id": "eef0e1d8",
   "metadata": {},
   "source": [
    "### Q4. Ranking by cosine, version two\n",
    "Is it different from Q3? If yes, why?\n",
    "Yes, it’s different from Q3 because concatenating question and text gives more context, which can improve the match."
   ]
  },
  {
   "cell_type": "code",
   "execution_count": null,
   "id": "2e6f06f8",
   "metadata": {},
   "outputs": [
    {
     "name": "stdout",
     "output_type": "stream",
     "text": [
      "Cosine similarities (full_text): [0.85145432 0.84365942 0.8408287  0.7755158  0.80860078]\n",
      "Document index with the highest similarity (full_text): 0\n"
     ]
    }
   ],
   "source": [
    "# Concatenate question and text for each document\n",
    "full_texts = [doc['question'] + ' ' + doc['text'] for doc in documents]\n",
    "\n",
    "# Embed the concatenated fields\n",
    "full_embeddings = list(model.embed(full_texts))  \n",
    "\n",
    "# Stack embeddings into a matrix\n",
    "V_full = np.stack(full_embeddings)\n",
    "\n",
    "# Compute cosine similarity for each document with the query vector q\n",
    "cosines_full = V_full.dot(q)\n",
    "\n",
    "# Print similarities and the index of the highest one\n",
    "print(\"Cosine similarities (full_text):\", cosines_full)\n",
    "print(\"Document index with the highest similarity (full_text):\", np.argmax(cosines_full))"
   ]
  },
  {
   "cell_type": "markdown",
   "id": "d11c1d44",
   "metadata": {},
   "source": [
    "### Q5. Selecting the embedding model\n"
   ]
  },
  {
   "cell_type": "code",
   "execution_count": 7,
   "id": "b941ce52",
   "metadata": {},
   "outputs": [
    {
     "name": "stdout",
     "output_type": "stream",
     "text": [
      "Shape of the smallest embedding: (384,)\n"
     ]
    }
   ],
   "source": [
    "smallest_model = TextEmbedding(model_name=\"BAAI/bge-small-en\")\n",
    "smallest_dim = next(smallest_model.embed([query]))\n",
    "print(\"Shape of the smallest embedding:\", smallest_dim.shape)"
   ]
  },
  {
   "cell_type": "markdown",
   "id": "c1356cfd",
   "metadata": {},
   "source": [
    "### Q6. Indexing with qdrant (2 points)\n"
   ]
  },
  {
   "cell_type": "code",
   "execution_count": 10,
   "id": "f6d57343",
   "metadata": {},
   "outputs": [
    {
     "name": "stderr",
     "output_type": "stream",
     "text": [
      "/tmp/ipykernel_86430/2548308992.py:29: DeprecationWarning: `recreate_collection` method is deprecated and will be removed in the future. Use `collection_exists` to check collection existence and `create_collection` instead.\n",
      "  client.recreate_collection(\n"
     ]
    },
    {
     "name": "stdout",
     "output_type": "stream",
     "text": [
      "Highest score in the results: 0.8703172\n"
     ]
    }
   ],
   "source": [
    "import requests\n",
    "from qdrant_client import QdrantClient, models\n",
    "\n",
    "# Download and filter documents\n",
    "docs_url = 'https://github.com/alexeygrigorev/llm-rag-workshop/raw/main/notebooks/documents.json'\n",
    "docs_response = requests.get(docs_url)\n",
    "documents_raw = docs_response.json()\n",
    "\n",
    "documents = []\n",
    "\n",
    "for course in documents_raw:\n",
    "    course_name = course['course']\n",
    "    if course_name != 'machine-learning-zoomcamp':\n",
    "        continue\n",
    "\n",
    "    for doc in course['documents']:\n",
    "        doc['course'] = course_name\n",
    "        documents.append(doc)\n",
    "\n",
    "# Use the small embedding model handle\n",
    "model_handle = \"BAAI/bge-small-en\"\n",
    "EMBEDDING_DIMENSIONALITY = 384\n",
    "collection_name = \"ml_zoomcamp_fqa\"\n",
    "\n",
    "# Connect to Qdrant\n",
    "client = QdrantClient(\"http://localhost:6333\")\n",
    "\n",
    "# Recreate collection to avoid errors if rerunning\n",
    "client.recreate_collection(\n",
    "    collection_name=collection_name,\n",
    "    vectors_config=models.VectorParams(\n",
    "        size=EMBEDDING_DIMENSIONALITY,\n",
    "        distance=models.Distance.COSINE\n",
    "    )\n",
    ")\n",
    "\n",
    "# Create points using models.Document (Qdrant will embed)\n",
    "points = []\n",
    "for i, doc in enumerate(documents):\n",
    "    text = doc['question'] + ' ' + doc['text']\n",
    "    point = models.PointStruct(\n",
    "        id=i,\n",
    "        vector=models.Document(text=text, model=model_handle),\n",
    "        payload=doc\n",
    "    )\n",
    "    points.append(point)\n",
    "\n",
    "# Upsert points\n",
    "client.upsert(\n",
    "    collection_name=collection_name,\n",
    "    points=points\n",
    ")\n",
    "\n",
    "# Search with the Q1 query, using models.Document for embedding\n",
    "query = \"I just discovered the course. Can I join now?\"\n",
    "results = client.query_points(\n",
    "    collection_name=collection_name,\n",
    "    query=models.Document(text=query, model=model_handle),\n",
    "    limit=1,\n",
    "    with_payload=True\n",
    ")\n",
    "\n",
    "print(\"Highest score in the results:\", results.points[0].score)"
   ]
  }
 ],
 "metadata": {
  "kernelspec": {
   "display_name": "base",
   "language": "python",
   "name": "python3"
  },
  "language_info": {
   "codemirror_mode": {
    "name": "ipython",
    "version": 3
   },
   "file_extension": ".py",
   "mimetype": "text/x-python",
   "name": "python",
   "nbconvert_exporter": "python",
   "pygments_lexer": "ipython3",
   "version": "3.10.16"
  }
 },
 "nbformat": 4,
 "nbformat_minor": 5
}
