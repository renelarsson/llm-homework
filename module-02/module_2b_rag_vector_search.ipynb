{
  "cells": [
    {
      "cell_type": "markdown",
      "id": "7c419c5e",
      "metadata": {},
      "source": [
        "# RAG with Vector Search"
      ]
    },
    {
      "cell_type": "markdown",
      "id": "fd914732",
      "metadata": {},
      "source": [
        "### Download and Flatten FAQ Documents\n",
        "This cell downloads the FAQ documents from a remote JSON file, then flattens the nested structure so each document includes its course name. This makes it easier to process and search the documents later."
      ]
    },
    {
      "cell_type": "code",
      "execution_count": 1,
      "id": "ae8e2ae0-da25-44e7-ae82-024173150a15",
      "metadata": {
        "id": "ae8e2ae0-da25-44e7-ae82-024173150a15"
      },
      "outputs": [],
      "source": [
        "import requests\n",
        "\n",
        "docs_url = 'https://github.com/alexeygrigorev/llm-rag-workshop/raw/main/notebooks/documents.json'\n",
        "docs_response = requests.get(docs_url)\n",
        "documents_raw = docs_response.json()\n",
        "\n",
        "documents = []\n",
        "\n",
        "for course in documents_raw:\n",
        "    course_name = course['course']\n",
        "\n",
        "    for doc in course['documents']:\n",
        "        doc['course'] = course_name\n",
        "        documents.append(doc)"
      ]
    },
    {
      "cell_type": "code",
      "execution_count": 2,
      "id": "57de60e5-b96c-499c-a7cf-0f30fc33b324",
      "metadata": {
        "id": "57de60e5-b96c-499c-a7cf-0f30fc33b324",
        "outputId": "efcc36ab-7d58-4fae-f266-f8a1e11204ec"
      },
      "outputs": [
        {
          "data": {
            "text/plain": [
              "{'text': \"Yes, even if you don't register, you're still eligible to submit the homeworks.\\nBe aware, however, that there will be deadlines for turning in the final projects. So don't leave everything for the last minute.\",\n",
              " 'section': 'General course-related questions',\n",
              " 'question': 'Course - Can I still join the course after the start date?',\n",
              " 'course': 'data-engineering-zoomcamp'}"
            ]
          },
          "execution_count": 2,
          "metadata": {},
          "output_type": "execute_result"
        }
      ],
      "source": [
        "documents[2]"
      ]
    },
    {
      "cell_type": "markdown",
      "id": "0e06a41e",
      "metadata": {},
      "source": [
        "### Create and Fit Minsearch Index\n",
        "This cell imports Minsearch, creates an index specifying which fields to use for text and keyword search, and fits (trains) the index on the loaded documents. This prepares the index for efficient search queries."
      ]
    },
    {
      "cell_type": "code",
      "execution_count": 3,
      "id": "ce7d0d18-5c07-4010-9f90-bbd021f110c8",
      "metadata": {
        "id": "ce7d0d18-5c07-4010-9f90-bbd021f110c8",
        "outputId": "773c1f48-81d0-4189-b0d8-fcde959ced4e"
      },
      "outputs": [
        {
          "data": {
            "text/plain": [
              "<minsearch.minsearch.Index at 0x7f64be1cfaf0>"
            ]
          },
          "execution_count": 3,
          "metadata": {},
          "output_type": "execute_result"
        }
      ],
      "source": [
        "import minsearch\n",
        "\n",
        "index = minsearch.Index(\n",
        "    text_fields=[\"question\", \"text\", \"section\"],\n",
        "    keyword_fields=[\"course\"]\n",
        ")\n",
        "\n",
        "index.fit(documents)"
      ]
    },
    {
      "cell_type": "code",
      "execution_count": 4,
      "id": "aa755a08-b98d-4e92-8994-04e6108499d9",
      "metadata": {
        "id": "aa755a08-b98d-4e92-8994-04e6108499d9"
      },
      "outputs": [],
      "source": [
        "from openai import OpenAI\n",
        "\n",
        "openai_client = OpenAI()"
      ]
    },
    {
      "cell_type": "markdown",
      "id": "e6a20340",
      "metadata": {},
      "source": [
        "### Define Search Function with Boosting and Filtering\n",
        "This cell defines a function to search the Minsearch index. It applies field boosting (giving more weight to the 'question' field) and filters results by course, returning the top 5 most relevant documents."
      ]
    },
    {
      "cell_type": "code",
      "execution_count": 5,
      "id": "b21237c3-80e9-429c-a089-d45428087046",
      "metadata": {
        "id": "b21237c3-80e9-429c-a089-d45428087046"
      },
      "outputs": [],
      "source": [
        "def search(query):\n",
        "    boost = {'question': 3.0, 'section': 0.5}\n",
        "\n",
        "    results = index.search(\n",
        "        query=query,\n",
        "        filter_dict={'course': 'data-engineering-zoomcamp'},\n",
        "        boost_dict=boost,\n",
        "        num_results=5\n",
        "    )\n",
        "\n",
        "    return results"
      ]
    },
    {
      "cell_type": "markdown",
      "id": "15f301d5",
      "metadata": {},
      "source": [
        "### Build Prompt for LLM\n",
        "This cell defines a function to build a prompt for the language model. It combines the user query and the retrieved FAQ context into a single prompt, which will be sent to the LLM for answer generation."
      ]
    },
    {
      "cell_type": "code",
      "execution_count": 6,
      "id": "8cc5784e-6515-42e5-be62-8fb915df1088",
      "metadata": {
        "id": "8cc5784e-6515-42e5-be62-8fb915df1088"
      },
      "outputs": [],
      "source": [
        "def build_prompt(query, search_results):\n",
        "    prompt_template = \"\"\"\n",
        "You're a course teaching assistant. Answer the QUESTION based on the CONTEXT from the FAQ database.\n",
        "Use only the facts from the CONTEXT when answering the QUESTION.\n",
        "\n",
        "QUESTION: {question}\n",
        "\n",
        "CONTEXT:\n",
        "{context}\n",
        "\"\"\".strip()\n",
        "\n",
        "    context = \"\"\n",
        "\n",
        "    for doc in search_results:\n",
        "        context = context + f\"section: {doc['section']}\\nquestion: {doc['question']}\\nanswer: {doc['text']}\\n\\n\"\n",
        "\n",
        "    prompt = prompt_template.format(question=query, context=context).strip()\n",
        "    return prompt"
      ]
    },
    {
      "cell_type": "markdown",
      "id": "4201df4e",
      "metadata": {},
      "source": [
        "### Define LLM Call Function\n",
        "This cell defines a function that sends a prompt to the OpenAI chat model and returns the generated answer. The prompt typically includes the user query and relevant FAQ context."
      ]
    },
    {
      "cell_type": "code",
      "execution_count": 7,
      "id": "97d35dec-c25f-472d-b961-20d5c30902ae",
      "metadata": {
        "id": "97d35dec-c25f-472d-b961-20d5c30902ae"
      },
      "outputs": [],
      "source": [
        "def llm(prompt):\n",
        "    response = openai_client.chat.completions.create(\n",
        "        model='gpt-4o-mini', # R: Cheaper\n",
        "        messages=[{\"role\": \"user\", \"content\": prompt}]\n",
        "    )\n",
        "\n",
        "    return response.choices[0].message.content"
      ]
    },
    {
      "cell_type": "markdown",
      "id": "7fbe01e7",
      "metadata": {},
      "source": [
        "### Define RAG Pipeline Function\n",
        "This cell defines a function that implements the full Retrieval-Augmented Generation (RAG) pipeline: it searches the Minsearch index, builds a prompt from the results, and calls the LLM to generate an answer."
      ]
    },
    {
      "cell_type": "code",
      "execution_count": null,
      "id": "8602f40b-ad3b-49c9-b3cc-051a79c888bc",
      "metadata": {
        "id": "8602f40b-ad3b-49c9-b3cc-051a79c888bc"
      },
      "outputs": [],
      "source": [
        "def rag(query):\n",
        "    search_results = search(query) # R: Search the index for the query \n",
        "    prompt = build_prompt(query, search_results) # R: Build the prompt using the search results\n",
        "    answer = llm(prompt) # R: Call the LLM with the prompt (provide llm with context)\n",
        "    return answer"
      ]
    },
    {
      "cell_type": "code",
      "execution_count": 9,
      "id": "5fd4497b-c5d5-4258-b950-6b35d1af4ec5",
      "metadata": {
        "id": "5fd4497b-c5d5-4258-b950-6b35d1af4ec5",
        "outputId": "bb3b34b8-5a6c-40b8-b8a7-2708949be501"
      },
      "outputs": [
        {
          "data": {
            "text/plain": [
              "'To run Kafka using Java, navigate to your project directory and execute the following command in the terminal:\\n\\n```\\njava -cp build/libs/<jar_name>-1.0-SNAPSHOT.jar:out src/main/java/org/example/JsonProducer.java\\n```\\n\\nIf you are using Python, ensure that you create a virtual environment, install the necessary packages from `requirements.txt`, and then run your Python files within that environment. Here are the steps:\\n\\n1. Create a virtual environment and install packages:\\n   ```\\n   python -m venv env\\n   source env/bin/activate  # For MacOS/Linux\\n   pip install -r ../requirements.txt\\n   ```\\n\\n2. Activate the virtual environment (you will need to do this each time):\\n   ```\\n   source env/bin/activate  # For MacOS/Linux\\n   ```\\n\\n   On Windows, use:\\n   ```\\n   env\\\\Scripts\\\\activate\\n   ```\\n\\n3. To deactivate the virtual environment when you are done, run:\\n   ```\\n   deactivate\\n   ```\\n\\nMake sure Docker images are up and running if you are using them in your setup.'"
            ]
          },
          "execution_count": 9,
          "metadata": {},
          "output_type": "execute_result"
        }
      ],
      "source": [
        "rag('how do I run kafka?') #R: Call the RAG function with a query"
      ]
    },
    {
      "cell_type": "code",
      "execution_count": 10,
      "id": "385b012f-4905-422d-8d7c-3d542dfe5a7c",
      "metadata": {
        "id": "385b012f-4905-422d-8d7c-3d542dfe5a7c",
        "outputId": "1496aec8-cc54-453b-f38b-95b4dcdda5cb"
      },
      "outputs": [
        {
          "data": {
            "text/plain": [
              "\"Yes, you can still enroll in the course after it has started. Even if you don't register, you are eligible to submit homework. However, keep in mind that there will be deadlines for the final projects, so it's advisable not to leave everything until the last minute.\""
            ]
          },
          "execution_count": 10,
          "metadata": {},
          "output_type": "execute_result"
        }
      ],
      "source": [
        "rag('the course has already started, can I still enroll?')"
      ]
    },
    {
      "cell_type": "markdown",
      "id": "c197675a",
      "metadata": {},
      "source": [
        "### Set Up Qdrant Vector Database and Client\n",
        "This cell (and the following ones) set up Qdrant, a vector database for similarity search. It installs the required package, imports the client, and connects to a local Qdrant server."
      ]
    },
    {
      "cell_type": "code",
      "execution_count": 11,
      "id": "a78f5cb1-709c-4b48-a9b9-1738b75415de",
      "metadata": {
        "id": "a78f5cb1-709c-4b48-a9b9-1738b75415de"
      },
      "outputs": [],
      "source": [
        "# !python -m pip install -q \"qdrant-client[fastembed]>=1.14.2\" # Install quadrant into environment\n",
        "from qdrant_client import QdrantClient, models # Qdrant as python module"
      ]
    },
    {
      "cell_type": "code",
      "execution_count": 12,
      "id": "61784d3a-b8f1-45b2-9404-e3495dca1152",
      "metadata": {
        "id": "61784d3a-b8f1-45b2-9404-e3495dca1152"
      },
      "outputs": [],
      "source": [
        "qd_client = QdrantClient(\"http://localhost:6333\") # Not client instance as above, but server connection"
      ]
    },
    {
      "cell_type": "markdown",
      "id": "149a0a17",
      "metadata": {},
      "source": [
        "### Configure Qdrant Collection and Embedding Model\n",
        "This cell sets up the configuration for the Qdrant collection, including the embedding dimensionality and the model used to generate vector embeddings for the documents."
      ]
    },
    {
      "cell_type": "code",
      "execution_count": 13,
      "id": "f435b8da-834e-45c1-b83e-e28c294c044d",
      "metadata": {
        "id": "f435b8da-834e-45c1-b83e-e28c294c044d"
      },
      "outputs": [],
      "source": [
        "# Set-up the configuration\n",
        "EMBEDDING_DIMENSIONALITY = 512\n",
        "model_handle = \"jinaai/jina-embeddings-v2-small-en\""
      ]
    },
    {
      "cell_type": "code",
      "execution_count": 14,
      "id": "b4fa85d4-af1d-46b9-a281-87c5f332bef7",
      "metadata": {
        "id": "b4fa85d4-af1d-46b9-a281-87c5f332bef7"
      },
      "outputs": [],
      "source": [
        "collection_name = \"zoomcamp-faq\""
      ]
    },
    {
      "cell_type": "markdown",
      "id": "1709f8b8",
      "metadata": {},
      "source": [
        "### Delete Existing Qdrant Collection (if any)\n",
        "This cell deletes any existing Qdrant collection with the same name to ensure a clean setup before creating a new collection for the FAQ documents."
      ]
    },
    {
      "cell_type": "code",
      "execution_count": 27,
      "id": "fce5957c-22c2-43e6-8dc1-af0c1acc884e",
      "metadata": {
        "id": "fce5957c-22c2-43e6-8dc1-af0c1acc884e"
      },
      "outputs": [
        {
          "data": {
            "text/plain": [
              "True"
            ]
          },
          "execution_count": 27,
          "metadata": {},
          "output_type": "execute_result"
        }
      ],
      "source": [
        "qd_client.delete_collection(collection_name=collection_name)"
      ]
    },
    {
      "cell_type": "markdown",
      "id": "b461bfc4",
      "metadata": {},
      "source": [
        "### Create Qdrant Collection for Vector Search\n",
        "This cell creates a new Qdrant collection with the specified vector size and distance metric (cosine similarity). This collection will store the vector embeddings for the FAQ documents."
      ]
    },
    {
      "cell_type": "code",
      "execution_count": 28,
      "id": "722e75a1-95ab-4388-94c0-800ec4f58866",
      "metadata": {
        "id": "722e75a1-95ab-4388-94c0-800ec4f58866",
        "outputId": "8353ff70-a866-4cc9-8e33-549aba16e456"
      },
      "outputs": [
        {
          "data": {
            "text/plain": [
              "True"
            ]
          },
          "execution_count": 28,
          "metadata": {},
          "output_type": "execute_result"
        }
      ],
      "source": [
        "qd_client.create_collection(\n",
        "    collection_name=collection_name,\n",
        "    vectors_config=models.VectorParams(\n",
        "        size=EMBEDDING_DIMENSIONALITY,\n",
        "        distance=models.Distance.COSINE\n",
        "    )\n",
        ")"
      ]
    },
    {
      "cell_type": "markdown",
      "id": "dc885fbc",
      "metadata": {},
      "source": [
        "### Create Payload Index for Course Filtering\n",
        "This cell creates a payload index in Qdrant for the 'course' field, enabling efficient filtering of search results by course name."
      ]
    },
    {
      "cell_type": "code",
      "execution_count": 29,
      "id": "cb29d2a0-64df-4ea2-8920-8e6a16c4bcd4",
      "metadata": {
        "id": "cb29d2a0-64df-4ea2-8920-8e6a16c4bcd4",
        "outputId": "da20251e-1a74-4a2b-f562-f840b1410a3d"
      },
      "outputs": [
        {
          "data": {
            "text/plain": [
              "UpdateResult(operation_id=1, status=<UpdateStatus.COMPLETED: 'completed'>)"
            ]
          },
          "execution_count": 29,
          "metadata": {},
          "output_type": "execute_result"
        }
      ],
      "source": [
        "qd_client.create_payload_index( \n",
        "    collection_name=collection_name,\n",
        "    field_name=\"course\",\n",
        "    field_schema=\"keyword\"\n",
        ")"
      ]
    },
    {
      "cell_type": "markdown",
      "id": "467ae0c5",
      "metadata": {},
      "source": [
        "### Create Vector Points for Qdrant\n",
        "This cell creates vector points for each FAQ document by combining the question and answer text, generating embeddings, and packaging them with their metadata. These points will be inserted into the Qdrant collection."
      ]
    },
    {
      "cell_type": "code",
      "execution_count": 30,
      "id": "1348ef23-364a-4719-94fe-7a9cf8ea8371",
      "metadata": {
        "id": "1348ef23-364a-4719-94fe-7a9cf8ea8371"
      },
      "outputs": [],
      "source": [
        "points = []\n",
        "\n",
        "for i, doc in enumerate(documents): # Documents already unnested above\n",
        "    text = doc['question'] + ' ' + doc['text']# Combine Q&A in the index\n",
        "    vector = models.Document(text=text, model=model_handle)\n",
        "    point = models.PointStruct(\n",
        "        id=i,\n",
        "        vector=vector,\n",
        "        payload=doc\n",
        "    )\n",
        "    points.append(point)# Text, Model, Payload"
      ]
    },
    {
      "cell_type": "code",
      "execution_count": 31,
      "id": "c8476235",
      "metadata": {},
      "outputs": [
        {
          "data": {
            "text/plain": [
              "PointStruct(id=0, vector=Document(text=\"Course - When will the course start? The purpose of this document is to capture frequently asked technical questions\\nThe exact day and hour of the course will be 15th Jan 2024 at 17h00. The course will start with the first  “Office Hours'' live.1\\nSubscribe to course public Google Calendar (it works from Desktop only).\\nRegister before the course starts using this link.\\nJoin the course Telegram channel with announcements.\\nDon’t forget to register in DataTalks.Club's Slack and join the channel.\", model='jinaai/jina-embeddings-v2-small-en', options=None), payload={'text': \"The purpose of this document is to capture frequently asked technical questions\\nThe exact day and hour of the course will be 15th Jan 2024 at 17h00. The course will start with the first  “Office Hours'' live.1\\nSubscribe to course public Google Calendar (it works from Desktop only).\\nRegister before the course starts using this link.\\nJoin the course Telegram channel with announcements.\\nDon’t forget to register in DataTalks.Club's Slack and join the channel.\", 'section': 'General course-related questions', 'question': 'Course - When will the course start?', 'course': 'data-engineering-zoomcamp'})"
            ]
          },
          "execution_count": 31,
          "metadata": {},
          "output_type": "execute_result"
        }
      ],
      "source": [
        "points[0]"
      ]
    },
    {
      "cell_type": "markdown",
      "id": "ada27be9",
      "metadata": {},
      "source": [
        "### Upsert Vector Points into Qdrant Collection\n",
        "This cell inserts (or updates) all the vector points into the Qdrant collection, making the FAQ documents available for vector similarity search."
      ]
    },
    {
      "cell_type": "code",
      "execution_count": 32,
      "id": "e5e0e480-2af4-4a0e-b3d0-28a1e2181195",
      "metadata": {
        "id": "e5e0e480-2af4-4a0e-b3d0-28a1e2181195",
        "outputId": "f86e8d99-e1e3-41d9-dcc2-6e897c062e78"
      },
      "outputs": [
        {
          "data": {
            "text/plain": [
              "UpdateResult(operation_id=2, status=<UpdateStatus.COMPLETED: 'completed'>)"
            ]
          },
          "execution_count": 32,
          "metadata": {},
          "output_type": "execute_result"
        }
      ],
      "source": [
        "# Upsert (\"update\" and \"insert\") DB\n",
        "qd_client.upsert( # May be slow\n",
        "    collection_name=collection_name,\n",
        "    points=points\n",
        ")"
      ]
    },
    {
      "cell_type": "code",
      "execution_count": 33,
      "id": "2c9be7f7-2813-432b-8d73-3dff448dd02e",
      "metadata": {
        "id": "2c9be7f7-2813-432b-8d73-3dff448dd02e"
      },
      "outputs": [],
      "source": [
        "question = 'I just discovered the course. Can I still join it?'"
      ]
    },
    {
      "cell_type": "markdown",
      "id": "021ea678",
      "metadata": {},
      "source": [
        "### Define Vector Search Function for Qdrant\n",
        "This cell defines a function to perform vector similarity search in Qdrant. It embeds the user query, filters by course, and retrieves the top 5 most similar FAQ documents."
      ]
    },
    {
      "cell_type": "code",
      "execution_count": 34,
      "id": "6698670a-6fe7-4f51-83f7-281e80e06f1b",
      "metadata": {
        "id": "6698670a-6fe7-4f51-83f7-281e80e06f1b"
      },
      "outputs": [],
      "source": [
        "def vector_search(question):\n",
        "    print('vector_search is used')\n",
        "\n",
        "    course = 'data-engineering-zoomcamp'\n",
        "    query_points = qd_client.query_points(\n",
        "        collection_name=collection_name, # Perform search in the collection\n",
        "        query=models.Document(\n",
        "            text=question, # Embedde the query in the document\n",
        "            model=model_handle\n",
        "        ),\n",
        "        query_filter=models.Filter( # Filter the courses\n",
        "            must=[\n",
        "                models.FieldCondition(\n",
        "                    key=\"course\",\n",
        "                    match=models.MatchValue(value=course)\n",
        "                )\n",
        "            ]\n",
        "        ),\n",
        "        limit=5,\n",
        "        with_payload=True\n",
        "    )\n",
        "\n",
        "    results = []\n",
        "\n",
        "    for point in query_points.points:\n",
        "        results.append(point.payload)# Same as query_points.points[0].payload\n",
        "\n",
        "    return results"
      ]
    },
    {
      "cell_type": "markdown",
      "id": "12c71fa7",
      "metadata": {},
      "source": [
        "### Define RAG Pipeline with Qdrant Vector Search\n",
        "This cell defines a RAG pipeline function that uses Qdrant for vector search, builds a prompt from the retrieved documents, and calls the LLM to generate an answer."
      ]
    },
    {
      "cell_type": "code",
      "execution_count": 35,
      "id": "d80d18e3-c512-4f97-9f77-b1145fdb73bf",
      "metadata": {
        "id": "d80d18e3-c512-4f97-9f77-b1145fdb73bf"
      },
      "outputs": [],
      "source": [
        "def rag(query):\n",
        "    search_results = vector_search(query)\n",
        "    prompt = build_prompt(query, search_results)\n",
        "    answer = llm(prompt)\n",
        "    return answer"
      ]
    },
    {
      "cell_type": "code",
      "execution_count": null,
      "id": "90bdc6f4-b6f8-4491-84f4-bbd8a6b9f6d3",
      "metadata": {
        "id": "90bdc6f4-b6f8-4491-84f4-bbd8a6b9f6d3",
        "outputId": "d83f6a03-234e-4061-c2ae-278d994c8e1e"
      },
      "outputs": [
        {
          "name": "stdout",
          "output_type": "stream",
          "text": [
            "vector_search is used\n"
          ]
        },
        {
          "data": {
            "text/plain": [
              "\"To run Kafka, you need to follow a few steps depending on what you are using (producer, consumer, etc.). Here are the general instructions:\\n\\n1. **Run the Producer/Consumer in the terminal**: \\n   Navigate to the project directory and run the following command:\\n   ```\\n   java -cp build/libs/<jar_name>-1.0-SNAPSHOT.jar:out src/main/java/org/example/JsonProducer.java\\n   ```\\n   Replace `<jar_name>` with the actual name of your JAR file.\\n\\n2. **Ensure Kafka Broker is Running**: \\n   If you encounter the error `kafka.errors.NoBrokersAvailable`, check if your Kafka broker Docker container is running. You can confirm this by running `docker ps` in the terminal. If it's not running, start it by navigating to the directory containing the Docker Compose YAML file and executing:\\n   ```\\n   docker compose up -d\\n   ```\\n\\n3. **Check Configuration**: \\n   Make sure that the `StreamsConfig.BOOTSTRAP_SERVERS_CONFIG` in your scripts is set to the correct server URL. Additionally, verify that your cluster key and secrets in `src/main/java/org/example/Secrets.java` are updated correctly.\\n\\nBy following these steps, you should be able to run Kafka successfully.\""
            ]
          },
          "execution_count": 36,
          "metadata": {},
          "output_type": "execute_result"
        },
        {
          "ename": "",
          "evalue": "",
          "output_type": "error",
          "traceback": [
            "\u001b[1;31mThe Kernel crashed while executing code in the current cell or a previous cell. \n",
            "\u001b[1;31mPlease review the code in the cell(s) to identify a possible cause of the failure. \n",
            "\u001b[1;31mClick <a href='https://aka.ms/vscodeJupyterKernelCrash'>here</a> for more info. \n",
            "\u001b[1;31mView Jupyter <a href='command:jupyter.viewOutput'>log</a> for further details."
          ]
        }
      ],
      "source": [
        "rag('how do I run kafka?')"
      ]
    },
    {
      "cell_type": "code",
      "execution_count": null,
      "id": "886901ee-6e55-4295-a106-af25e6483da5",
      "metadata": {
        "id": "886901ee-6e55-4295-a106-af25e6483da5"
      },
      "outputs": [],
      "source": []
    }
  ],
  "metadata": {
    "colab": {
      "provenance": []
    },
    "kernelspec": {
      "display_name": "base",
      "language": "python",
      "name": "python3"
    },
    "language_info": {
      "codemirror_mode": {
        "name": "ipython",
        "version": 3
      },
      "file_extension": ".py",
      "mimetype": "text/x-python",
      "name": "python",
      "nbconvert_exporter": "python",
      "pygments_lexer": "ipython3",
      "version": "3.10.16"
    }
  },
  "nbformat": 4,
  "nbformat_minor": 5
}
